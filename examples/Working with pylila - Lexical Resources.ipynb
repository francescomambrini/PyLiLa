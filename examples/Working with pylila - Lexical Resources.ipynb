{
 "cells": [
  {
   "cell_type": "markdown",
   "id": "5ab436ba",
   "metadata": {},
   "source": [
    "# Working with pylila: Lexical Resources"
   ]
  },
  {
   "cell_type": "markdown",
   "id": "2326ecd6",
   "metadata": {
    "toc": true
   },
   "source": [
    "<h1>Table of Contents<span class=\"tocSkip\"></span></h1>\n",
    "<div class=\"toc\"><ul class=\"toc-item\"><li><span><a href=\"#Lemmas-and-Lexical-Resources\" data-toc-modified-id=\"Lemmas-and-Lexical-Resources-1\"><span class=\"toc-item-num\">1&nbsp;&nbsp;</span>Lemmas and Lexical Resources</a></span></li><li><span><a href=\"#Concepts-and-Senses\" data-toc-modified-id=\"Concepts-and-Senses-2\"><span class=\"toc-item-num\">2&nbsp;&nbsp;</span>Concepts and Senses</a></span></li></ul></div>"
   ]
  },
  {
   "cell_type": "code",
   "execution_count": 1,
   "id": "b2ed9ba0",
   "metadata": {},
   "outputs": [],
   "source": [
    "import sys\n",
    "import os\n",
    "\n",
    "sys.path.insert(0, os.path.abspath(\"../\"))\n",
    "\n",
    "import pylila"
   ]
  },
  {
   "cell_type": "markdown",
   "id": "3f7a300f",
   "metadata": {},
   "source": [
    "## Lemmas and Lexical Resources"
   ]
  },
  {
   "cell_type": "markdown",
   "id": "f58e25bf",
   "metadata": {},
   "source": [
    "Let's go back where we left from the [previous notebook](https://github.com/francescomambrini/PyLiLa/blob/master/examples/Working%20with%20pylila%20-%20the%20Lemma%20Bank.ipynb). Let's start from the lemma of the verb 'abduco'"
   ]
  },
  {
   "cell_type": "code",
   "execution_count": 2,
   "id": "9ef6b753",
   "metadata": {},
   "outputs": [],
   "source": [
    "from pylila.lemma import get_lemmas_by_writtenrep\n",
    "from pylila.lemma import Lemma"
   ]
  },
  {
   "cell_type": "code",
   "execution_count": 3,
   "id": "ad6317d1",
   "metadata": {},
   "outputs": [
    {
     "name": "stdout",
     "output_type": "stream",
     "text": [
      "http://lila-erc.eu/data/id/lemma/86867\n"
     ]
    }
   ],
   "source": [
    "abduco_uri = get_lemmas_by_writtenrep('abduco')[0]\n",
    "print(abduco_uri)"
   ]
  },
  {
   "cell_type": "markdown",
   "id": "99f38b89",
   "metadata": {},
   "source": [
    "Now we create a pylila.Lemma from the URI that we just retrieved"
   ]
  },
  {
   "cell_type": "code",
   "execution_count": 4,
   "id": "45782d88",
   "metadata": {},
   "outputs": [
    {
     "name": "stdout",
     "output_type": "stream",
     "text": [
      "http://lila-erc.eu/data/id/prefix/1\n"
     ]
    }
   ],
   "source": [
    "abduco = Lemma(abduco_uri)\n",
    "print(abduco.prefixes[0])"
   ]
  },
  {
   "cell_type": "markdown",
   "id": "df53de4f",
   "metadata": {},
   "source": [
    "Lemmas have a couple of interesting additional methods:\n",
    "* `get_lexical_entries()`\n",
    "* `get_tokens()`\n",
    "\n",
    "What these two methods will do is retrieving the Lexical Entries linked to the lemma via `ontolex:canonicalForm` and the corpus tokens linked via `lila:hasLemma` (both relations are inverse: the Lemma is the property range, or the object of the triples)"
   ]
  },
  {
   "cell_type": "code",
   "execution_count": 5,
   "id": "bc72d75b",
   "metadata": {},
   "outputs": [
    {
     "name": "stdout",
     "output_type": "stream",
     "text": [
      "http://lila-erc.eu/data/lexicalResources/LatinWordNet/id/LexicalEntry/l_86867\n",
      "http://lila-erc.eu/data/lexicalResources/LewisShort/id/LexicalEntry/n55\n",
      "http://lila-erc.eu/data/lexicalResources/WFL/id/LexicalEntry/li_86867\n"
     ]
    }
   ],
   "source": [
    "lex_entries = abduco.get_lexical_entries()\n",
    "for le in lex_entries:\n",
    "    print(le)"
   ]
  },
  {
   "cell_type": "markdown",
   "id": "2622b572",
   "metadata": {},
   "source": [
    "The lemma is connected to entries from 3 Lexical Resources: the Lewis & Short Latin-English dictionary, the Word Formation Latin and the Latin WordNet. Let's start by exploring the L&S.\n",
    "\n",
    "`pylila` has a class called `LexicalEntry`. We can create an instance, pretty much like we did with the lemma, by passing a URI"
   ]
  },
  {
   "cell_type": "code",
   "execution_count": 6,
   "id": "8a60cdbb",
   "metadata": {},
   "outputs": [],
   "source": [
    "from pylila.lexicon.lexentry import LexicalEntry"
   ]
  },
  {
   "cell_type": "code",
   "execution_count": 7,
   "id": "de4c2023",
   "metadata": {},
   "outputs": [
    {
     "name": "stdout",
     "output_type": "stream",
     "text": [
      "LS lexical entry for 'abduco'\n"
     ]
    }
   ],
   "source": [
    "abduco_ls_lex = LexicalEntry('http://lila-erc.eu/data/lexicalResources/LewisShort/id/LexicalEntry/n55')\n",
    "print(abduco_ls_lex.get_label())"
   ]
  },
  {
   "cell_type": "markdown",
   "id": "fea33814",
   "metadata": {},
   "source": [
    "If we want, we can check the URI of the attached lexicon(s). Keep in mind, as usual, that an entry may belong to more lexicons (actually, this is not only in theory: many entries in the Latin WordNet are also part of Vallex). However, in this case, we can be pretty sure that there is only 1 and no more than 1 lexicon attached"
   ]
  },
  {
   "cell_type": "code",
   "execution_count": 8,
   "id": "bbf834c5",
   "metadata": {},
   "outputs": [
    {
     "name": "stdout",
     "output_type": "stream",
     "text": [
      "1\n",
      "http://lila-erc.eu/data/lexicalResources/LewisShort/Lexicon\n"
     ]
    }
   ],
   "source": [
    "print(len(abduco_ls_lex.get_lexicons()))\n",
    "print(abduco_ls_lex.get_lexicons()[0])"
   ]
  },
  {
   "cell_type": "markdown",
   "id": "0e75b66b",
   "metadata": {},
   "source": [
    "## Concepts and Senses"
   ]
  },
  {
   "cell_type": "code",
   "execution_count": 9,
   "id": "650f95e5",
   "metadata": {},
   "outputs": [
    {
     "name": "stdout",
     "output_type": "stream",
     "text": [
      "http://lila-erc.eu/data/lexicalResources/LewisShort/id/LexicalConcept/n55.7\n",
      "http://lila-erc.eu/data/lexicalResources/LewisShort/id/LexicalConcept/n55.2\n",
      "http://lila-erc.eu/data/lexicalResources/LewisShort/id/LexicalConcept/n55.4\n",
      "http://lila-erc.eu/data/lexicalResources/LewisShort/id/LexicalConcept/n55.0\n",
      "http://lila-erc.eu/data/lexicalResources/LewisShort/id/LexicalConcept/n55.15\n",
      "http://lila-erc.eu/data/lexicalResources/LewisShort/id/LexicalConcept/n55.13\n",
      "http://lila-erc.eu/data/lexicalResources/LewisShort/id/LexicalConcept/n55.8\n",
      "http://lila-erc.eu/data/lexicalResources/LewisShort/id/LexicalConcept/n55.14\n",
      "http://lila-erc.eu/data/lexicalResources/LewisShort/id/LexicalConcept/n55.9\n",
      "http://lila-erc.eu/data/lexicalResources/LewisShort/id/LexicalConcept/n55.6\n",
      "http://lila-erc.eu/data/lexicalResources/LewisShort/id/LexicalConcept/n55.11\n"
     ]
    }
   ],
   "source": [
    "for c in abduco_ls_lex.concepts:\n",
    "    print(c)"
   ]
  },
  {
   "cell_type": "markdown",
   "id": "2daafae1",
   "metadata": {},
   "source": [
    "---"
   ]
  },
  {
   "cell_type": "code",
   "execution_count": 43,
   "id": "c3cc31a3",
   "metadata": {},
   "outputs": [],
   "source": [
    "cps = [f'<{lc}>' for lc in abduco_ls_lex.concepts]\n",
    "nl = '\\n'\n",
    "q = f'''PREFIX skos: <http://www.w3.org/2004/02/skos#>\n",
    "select ?lc ?def where {{\n",
    "                  VALUES ?lc {{ {nl.join(cps)}\n",
    "                }}\n",
    "                ?lc skos:definition ?def\n",
    "                }}\n",
    "'''"
   ]
  },
  {
   "cell_type": "code",
   "execution_count": 33,
   "id": "7f8f8519",
   "metadata": {},
   "outputs": [],
   "source": [
    "from pylila.sparql import query"
   ]
  },
  {
   "cell_type": "code",
   "execution_count": 44,
   "id": "e00c6822",
   "metadata": {},
   "outputs": [],
   "source": [
    "res = query(q)"
   ]
  },
  {
   "cell_type": "code",
   "execution_count": 48,
   "id": "8cdaf0ea",
   "metadata": {},
   "outputs": [],
   "source": [
    "r = res.json()['results']['bindings'][0]"
   ]
  },
  {
   "cell_type": "code",
   "execution_count": 50,
   "id": "6fcd2023",
   "metadata": {},
   "outputs": [
    {
     "data": {
      "text/plain": [
       "'http://lila-erc.eu/data/lexicalResources/LewisShort/id/LexicalConcept/n55.0'"
      ]
     },
     "execution_count": 50,
     "metadata": {},
     "output_type": "execute_result"
    }
   ],
   "source": [
    "r['lc']['value']"
   ]
  },
  {
   "cell_type": "code",
   "execution_count": null,
   "id": "ef7ad650",
   "metadata": {},
   "outputs": [],
   "source": []
  }
 ],
 "metadata": {
  "kernelspec": {
   "display_name": "lila-kernel",
   "language": "python",
   "name": "lila-kernel"
  },
  "language_info": {
   "codemirror_mode": {
    "name": "ipython",
    "version": 3
   },
   "file_extension": ".py",
   "mimetype": "text/x-python",
   "name": "python",
   "nbconvert_exporter": "python",
   "pygments_lexer": "ipython3",
   "version": "3.9.7"
  },
  "toc": {
   "base_numbering": 1,
   "nav_menu": {},
   "number_sections": true,
   "sideBar": true,
   "skip_h1_title": true,
   "title_cell": "Table of Contents",
   "title_sidebar": "Contents",
   "toc_cell": true,
   "toc_position": {},
   "toc_section_display": true,
   "toc_window_display": false
  },
  "vscode": {
   "interpreter": {
    "hash": "7f43ee70a9039a7630ea721d293bc657c460078665ec88a0b432b9428ee9a147"
   }
  }
 },
 "nbformat": 4,
 "nbformat_minor": 5
}
