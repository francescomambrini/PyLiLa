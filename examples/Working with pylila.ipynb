{
 "cells": [
  {
   "cell_type": "markdown",
   "id": "c7aa534d",
   "metadata": {},
   "source": [
    "# Working with pylila"
   ]
  },
  {
   "cell_type": "markdown",
   "id": "171fbddf",
   "metadata": {
    "toc": true
   },
   "source": [
    "<h1>Table of Contents<span class=\"tocSkip\"></span></h1>\n",
    "<div class=\"toc\"><ul class=\"toc-item\"><li><span><a href=\"#Setting-everything-up\" data-toc-modified-id=\"Setting-everything-up-1\"><span class=\"toc-item-num\">1&nbsp;&nbsp;</span>Setting everything up</a></span></li><li><span><a href=\"#Exploring-the-lemma-bank\" data-toc-modified-id=\"Exploring-the-lemma-bank-2\"><span class=\"toc-item-num\">2&nbsp;&nbsp;</span>Exploring the lemma bank</a></span><ul class=\"toc-item\"><li><span><a href=\"#The-lemma:-overview\" data-toc-modified-id=\"The-lemma:-overview-2.1\"><span class=\"toc-item-num\">2.1&nbsp;&nbsp;</span>The lemma: overview</a></span></li><li><span><a href=\"#Derivational-Morphology\" data-toc-modified-id=\"Derivational-Morphology-2.2\"><span class=\"toc-item-num\">2.2&nbsp;&nbsp;</span>Derivational Morphology</a></span></li><li><span><a href=\"#Get-lemmas-from-string\" data-toc-modified-id=\"Get-lemmas-from-string-2.3\"><span class=\"toc-item-num\">2.3&nbsp;&nbsp;</span>Get lemmas from string</a></span></li></ul></li></ul></div>"
   ]
  },
  {
   "cell_type": "markdown",
   "id": "a2767e3c",
   "metadata": {},
   "source": [
    "## Setting everything up "
   ]
  },
  {
   "cell_type": "markdown",
   "id": "cf374e68",
   "metadata": {},
   "source": [
    "First, we need to install and import the library. If you're working with the bleeding edge version (like I'm doing now) you'll need to add the project folder to your PYTHONPATH"
   ]
  },
  {
   "cell_type": "code",
   "execution_count": 1,
   "id": "e176ee89",
   "metadata": {},
   "outputs": [
    {
     "data": {
      "text/plain": [
       "['/Users/francesco.mambrini/Documents/progetti/PyLiLa',\n",
       " '/Users/francesco.mambrini/Documents/progetti/PyLiLa/examples',\n",
       " '/opt/homebrew/Caskroom/miniforge/base/envs/lila/lib/python39.zip',\n",
       " '/opt/homebrew/Caskroom/miniforge/base/envs/lila/lib/python3.9',\n",
       " '/opt/homebrew/Caskroom/miniforge/base/envs/lila/lib/python3.9/lib-dynload',\n",
       " '',\n",
       " '/Users/francesco.mambrini/.local/lib/python3.9/site-packages',\n",
       " '/opt/homebrew/Caskroom/miniforge/base/envs/lila/lib/python3.9/site-packages',\n",
       " '/opt/homebrew/Caskroom/miniforge/base/envs/lila/lib/python3.9/site-packages/IPython/extensions',\n",
       " '/Users/francesco.mambrini/.ipython']"
      ]
     },
     "execution_count": 1,
     "metadata": {},
     "output_type": "execute_result"
    }
   ],
   "source": [
    "import sys\n",
    "import os\n",
    "\n",
    "sys.path.insert(0, os.path.abspath(\"../\"))\n",
    "\n",
    "sys.path"
   ]
  },
  {
   "cell_type": "markdown",
   "id": "efcddaa3",
   "metadata": {},
   "source": [
    "Now, the following line should work"
   ]
  },
  {
   "cell_type": "code",
   "execution_count": 2,
   "id": "6e47b795",
   "metadata": {},
   "outputs": [],
   "source": [
    "import pylila"
   ]
  },
  {
   "cell_type": "markdown",
   "id": "f467e2a3",
   "metadata": {},
   "source": [
    "## Exploring the lemma bank"
   ]
  },
  {
   "cell_type": "markdown",
   "id": "18765218",
   "metadata": {},
   "source": [
    "### The lemma: overview"
   ]
  },
  {
   "cell_type": "code",
   "execution_count": 3,
   "id": "f55a222d",
   "metadata": {},
   "outputs": [],
   "source": [
    "from pylila.lemma import Lemma\n",
    "from pprint import pprint"
   ]
  },
  {
   "cell_type": "markdown",
   "id": "ce01e93b",
   "metadata": {},
   "source": [
    "As with everything LiLa, the lemma is our starting point! Let's grab the URI of a lemma from the web and start exploring.\n",
    "\n",
    "For instance, let's start from the verb \"magnifico\" (*magnify* or *value greatly*): 'http://lila-erc.eu/data/id/lemma/111306'"
   ]
  },
  {
   "cell_type": "markdown",
   "id": "1b5fa755",
   "metadata": {},
   "source": [
    "(In the next sections we'll see how to get some random sample, or how to get the URI(s) starting from the \"written representation\" of a Lemma. You can also use our [query interface](https://lila-erc.eu/query/) to look for lemmas)"
   ]
  },
  {
   "cell_type": "code",
   "execution_count": 4,
   "id": "be0441de",
   "metadata": {},
   "outputs": [],
   "source": [
    "l = Lemma(\"http://lila-erc.eu/data/id/lemma/111306\")"
   ]
  },
  {
   "cell_type": "markdown",
   "id": "3b3c76aa",
   "metadata": {},
   "source": [
    "Now we have our lemma! This object has a series of interesting properties. The list (tuple) of Ontolex' [written representations](https://www.w3.org/2016/05/ontolex/#writtenRep), or the RDFS label(s) for instance:"
   ]
  },
  {
   "cell_type": "code",
   "execution_count": 5,
   "id": "822db33f",
   "metadata": {},
   "outputs": [
    {
     "name": "stdout",
     "output_type": "stream",
     "text": [
      "Written reps: (rdflib.term.Literal('magnufico'), rdflib.term.Literal('magnifico'))\n",
      "Label(s): (rdflib.term.Literal('magnifico'),)\n"
     ]
    }
   ],
   "source": [
    "print(f\"Written reps: {l.written_representations}\")\n",
    "print(f\"Label(s): {l.labels}\")"
   ]
  },
  {
   "cell_type": "markdown",
   "id": "92aa2592",
   "metadata": {},
   "source": [
    "As you see, all values are returned as Literals or URIs of the python `rflib` library. There's also a method to get the label(s) as a single string:"
   ]
  },
  {
   "cell_type": "code",
   "execution_count": 6,
   "id": "c9683e12",
   "metadata": {},
   "outputs": [
    {
     "name": "stdout",
     "output_type": "stream",
     "text": [
      "magnifico\n",
      "magnufico, magnifico\n"
     ]
    }
   ],
   "source": [
    "print(l.get_label())\n",
    "print(l.get_written_representations())"
   ]
  },
  {
   "cell_type": "markdown",
   "id": "9e1b9731",
   "metadata": {},
   "source": [
    "The `Lemma` object is contructed like that: first, the URI is parsed and the online SPARQL endpoint of LiLa is interrogated. An `rdflib.Graph` is contructed with all the triples that have the given lemma's URI as subject. The graph is accessible from the `l.graph` property:"
   ]
  },
  {
   "cell_type": "code",
   "execution_count": 7,
   "id": "690d850c",
   "metadata": {},
   "outputs": [
    {
     "name": "stdout",
     "output_type": "stream",
     "text": [
      "<class 'rdflib.graph.Graph'>\n"
     ]
    }
   ],
   "source": [
    "g = l.graph\n",
    "print(type(g))"
   ]
  },
  {
   "cell_type": "markdown",
   "id": "8b167dbd",
   "metadata": {},
   "source": [
    "You can generate a visualization of the data in `l.graph`, using the following code, but you'll need a couple of external libraries (`pydotplus` and the `graphviz` binding), plus obvioulsy the [Graphviz](https://graphviz.org/) binaries:"
   ]
  },
  {
   "cell_type": "code",
   "execution_count": 8,
   "id": "5a00e452",
   "metadata": {},
   "outputs": [],
   "source": [
    "from IPython.display import display, Image"
   ]
  },
  {
   "cell_type": "code",
   "execution_count": 9,
   "id": "ff05e1bc",
   "metadata": {},
   "outputs": [
    {
     "data": {
      "image/png": "[encoded data removed]",
      "text/plain": [
       "<IPython.core.display.Image object>"
      ]
     },
     "metadata": {},
     "output_type": "display_data"
    }
   ],
   "source": [
    "import io\n",
    "import pydotplus\n",
    "from rdflib.tools.rdf2dot import rdf2dot\n",
    "\n",
    "stream = io.StringIO()\n",
    "rdf2dot(g, stream, opts = {display})\n",
    "dg = pydotplus.graph_from_dot_data(stream.getvalue())\n",
    "png = dg.create_png()\n",
    "display(Image(png))"
   ]
  },
  {
   "cell_type": "markdown",
   "id": "bce9c0b7",
   "metadata": {},
   "source": [
    "If you didn't manage to run the code above, just load the pre-gerated graph"
   ]
  },
  {
   "cell_type": "code",
   "execution_count": 10,
   "id": "237cea0d",
   "metadata": {
    "scrolled": true
   },
   "outputs": [
    {
     "data": {
      "image/png": "[encoded data removed]",
      "text/plain": [
       "<IPython.core.display.Image object>"
      ]
     },
     "metadata": {},
     "output_type": "display_data"
    }
   ],
   "source": [
    "display(Image(\"magnifico.png\"))"
   ]
  },
  {
   "cell_type": "markdown",
   "id": "82c4842e",
   "metadata": {},
   "source": [
    "All the connections shown in the image are available via dedicated properties (apart from the link to the LemmaBank: see below). Keep in mind that most of those (with the exception of the part of speech and the inflection type) have a potential cartinality greater than 1, and therefore they return a tuple (which my also be empty). Thus, for instance, to get the property `lila:hasInflectionType` ('http://lila-erc.eu/ontologies/lila/hasInflectionType):"
   ]
  },
  {
   "cell_type": "code",
   "execution_count": 11,
   "id": "67339b71",
   "metadata": {},
   "outputs": [
    {
     "data": {
      "text/plain": [
       "rdflib.term.URIRef('http://lila-erc.eu/ontologies/lila/v1r')"
      ]
     },
     "execution_count": 11,
     "metadata": {},
     "output_type": "execute_result"
    }
   ],
   "source": [
    "l.inflection_type"
   ]
  },
  {
   "cell_type": "markdown",
   "id": "b047b32d",
   "metadata": {},
   "source": [
    "That's right, the verb belongs to the first conjugation (`v1r`). Below, we'll see how to get all fist-conj. lemmas from the lemma bank"
   ]
  },
  {
   "cell_type": "markdown",
   "id": "0be99b5a",
   "metadata": {},
   "source": [
    "### Derivational Morphology"
   ]
  },
  {
   "cell_type": "markdown",
   "id": "76374761",
   "metadata": {},
   "source": [
    "LiLa holds two different representations of the derivational processes in Latin. One is linked to the lemmas themselves. At this level, all lemmas of the Classical Latin portion of the Lemma Bank are segmented into their morphome components, which can be of 2 (or 3, if you consider how the first class is split) types:\n",
    "* affixes, i.e.:\n",
    "    * prefixes\n",
    "    * suffixes\n",
    "* lexical bases\n",
    "\n",
    "[Lexical Bases](http://lila-erc.eu/lodview/ontologies/lila/Base) are those lexical morphemes that are left once all prefixes and suffixes are stripped down. Take the English word *reunification* for instance. Once you remove the prefix *re-*, the suffix *-tion*, and the suffix *-fic/fy*, you are left with the lexical base commun to all words of the {union} family (*union, unity, unite*...). \\[Note, however, that in Latin we treat the *-fic-* component as a second lexical base of the family of {facio}\\].\n",
    "\n",
    "This is great, but it won't tell you how you derive a word from another (e.g. *magnificatio* from *magnifico*): this is done in a dedicated lexical resource called *Word Formation Latin* or [WFL](http://lila-erc.eu/data/lexicalResources/WFL/Lexicon), which we'll see in detail when we talk about Lexical Resources.\n",
    "\n",
    "For now, let's explore the first type of representation of Latin derivational morphology. As it is visible from the image above, we have a couple of properties, which are once again reachable from object properties:"
   ]
  },
  {
   "cell_type": "code",
   "execution_count": 12,
   "id": "395e1f3b",
   "metadata": {},
   "outputs": [
    {
     "data": {
      "text/plain": [
       "(rdflib.term.URIRef('http://lila-erc.eu/data/id/base/2222'),\n",
       " rdflib.term.URIRef('http://lila-erc.eu/data/id/base/152'))"
      ]
     },
     "execution_count": 12,
     "metadata": {},
     "output_type": "execute_result"
    }
   ],
   "source": [
    "l.lexical_bases"
   ]
  },
  {
   "cell_type": "markdown",
   "id": "976f2186",
   "metadata": {},
   "source": [
    "Our lemma is only linked to two lexical bases: the one of *magnus* and the one of *facio*. No affixes, as can be seen by e.g. running:"
   ]
  },
  {
   "cell_type": "code",
   "execution_count": 13,
   "id": "3c0ffef2",
   "metadata": {},
   "outputs": [
    {
     "data": {
      "text/plain": [
       "()"
      ]
     },
     "execution_count": 13,
     "metadata": {},
     "output_type": "execute_result"
    }
   ],
   "source": [
    "l.suffixes"
   ]
  },
  {
   "cell_type": "markdown",
   "id": "0294c7f0",
   "metadata": {},
   "source": [
    "It would be great if we could have all the lemmas that share the same bases/affixes/prefixes as our given lemma! Well, we can. We can use 3 dedicated methods. Note that the methods do little more than running a SPARQL query, which is designed so that the starting lemma is *NOT* included in the results."
   ]
  },
  {
   "cell_type": "code",
   "execution_count": 14,
   "id": "1c064a70",
   "metadata": {},
   "outputs": [],
   "source": [
    "same_bases = l.get_lemmas_from_same_bases()"
   ]
  },
  {
   "cell_type": "markdown",
   "id": "2180ec87",
   "metadata": {},
   "source": [
    "As we're dealing with the base of *facio* and the base of *magnus*, expect *a lot* of results!"
   ]
  },
  {
   "cell_type": "code",
   "execution_count": 15,
   "id": "50b176c1",
   "metadata": {},
   "outputs": [
    {
     "data": {
      "text/plain": [
       "770"
      ]
     },
     "execution_count": 15,
     "metadata": {},
     "output_type": "execute_result"
    }
   ],
   "source": [
    "len(same_bases)"
   ]
  },
  {
   "cell_type": "markdown",
   "id": "85f65e0e",
   "metadata": {},
   "source": [
    "Keep in mind that all we have here is an array of URIs, i.e. glorified strings: there's not much than we can do with them. Unless, of course, we construct a Lemma instance from each of them. However, that can be time- and resource-consuming: there may be better ways to achieve whatever you're after..."
   ]
  },
  {
   "cell_type": "code",
   "execution_count": 16,
   "id": "a884d53f",
   "metadata": {},
   "outputs": [
    {
     "name": "stdout",
     "output_type": "stream",
     "text": [
      "http://lila-erc.eu/data/id/lemma/100086\n",
      "<class 'rdflib.term.URIRef'>\n"
     ]
    }
   ],
   "source": [
    "print(same_bases[0])\n",
    "print(type(same_bases[0]))"
   ]
  },
  {
   "cell_type": "markdown",
   "id": "b0a88364",
   "metadata": {},
   "source": [
    "If you want to see a suffix in action... keep reading!"
   ]
  },
  {
   "cell_type": "markdown",
   "id": "19cfdc8f",
   "metadata": {},
   "source": [
    "But, before we get to that, what if we want *only* one of the two bases? For the results above mix both the facio and the magnus base...\n",
    "\n",
    "In that case, you're better served by creating a generic LiLa Resource instance (the class from which *all* the objects in the `pylila` inherit), passing the URI of the base you're interest in to the constructor:"
   ]
  },
  {
   "cell_type": "code",
   "execution_count": 17,
   "id": "de787a7f",
   "metadata": {},
   "outputs": [
    {
     "name": "stdout",
     "output_type": "stream",
     "text": [
      "Base of magnus\n"
     ]
    }
   ],
   "source": [
    "from pylila.resources import LiLaRes\n",
    "\n",
    "# we use the first base linked to 'magnifico', whatever that is\n",
    "b = LiLaRes(l.lexical_bases[0])\n",
    "\n",
    "# Let's print the label\n",
    "# you can rest pretty much assured that LiLa's resources will all have 1 and only 1 rdfs:label!\n",
    "\n",
    "print(b.labels[0])"
   ]
  },
  {
   "cell_type": "markdown",
   "id": "7319bb87",
   "metadata": {},
   "source": [
    "Now we can use a dedicated method get the *inverse* graph, i.e. the graph made of all triples where the given resource is an object. (**Warning**: some resources are the target of *a lot* of relations; it may take a while...)"
   ]
  },
  {
   "cell_type": "code",
   "execution_count": 18,
   "id": "f5a62b6a",
   "metadata": {},
   "outputs": [
    {
     "data": {
      "text/plain": [
       "27"
      ]
     },
     "execution_count": 18,
     "metadata": {},
     "output_type": "execute_result"
    }
   ],
   "source": [
    "inv_g = b.get_inverse_graph()\n",
    "len(inv_g)"
   ]
  },
  {
   "cell_type": "markdown",
   "id": "f60da421",
   "metadata": {},
   "source": [
    "Now let's use a method of `rdflib.Graph` to print all the subjects of a property-object pair. But first, in order to build the URI of the `lila:hasBase` property, let us import the `lila` namespace from the `pylila.urirefs` module, which conveniently provides some of the most used namespaces and URIs in LiLa"
   ]
  },
  {
   "cell_type": "code",
   "execution_count": 20,
   "id": "f05b74cb",
   "metadata": {},
   "outputs": [
    {
     "name": "stdout",
     "output_type": "stream",
     "text": [
      "http://lila-erc.eu/data/id/lemma/111307\n",
      "http://lila-erc.eu/data/id/lemma/111295\n",
      "http://lila-erc.eu/data/id/lemma/111297\n",
      "http://lila-erc.eu/data/id/lemma/111298\n",
      "http://lila-erc.eu/data/id/lemma/111299\n",
      "http://lila-erc.eu/data/id/lemma/111300\n",
      "http://lila-erc.eu/data/id/lemma/111292\n",
      "http://lila-erc.eu/data/id/lemma/111293\n",
      "http://lila-erc.eu/data/id/lemma/111294\n",
      "http://lila-erc.eu/data/id/lemma/111310\n",
      "http://lila-erc.eu/data/id/lemma/111313\n",
      "http://lila-erc.eu/data/id/lemma/111319\n",
      "http://lila-erc.eu/data/id/lemma/113281\n",
      "http://lila-erc.eu/data/id/lemma/113287\n",
      "http://lila-erc.eu/data/id/lemma/117051\n",
      "http://lila-erc.eu/data/id/lemma/117052\n",
      "http://lila-erc.eu/data/id/lemma/111303\n",
      "http://lila-erc.eu/data/id/lemma/111304\n",
      "http://lila-erc.eu/data/id/lemma/111305\n",
      "http://lila-erc.eu/data/id/lemma/111306\n",
      "http://lila-erc.eu/data/id/lemma/111317\n",
      "http://lila-erc.eu/data/id/lemma/111318\n",
      "http://lila-erc.eu/data/id/lemma/63173\n",
      "http://lila-erc.eu/data/id/lemma/111311\n",
      "http://lila-erc.eu/data/id/lemma/111314\n",
      "http://lila-erc.eu/data/id/lemma/111315\n",
      "http://lila-erc.eu/data/id/lemma/111316\n"
     ]
    }
   ],
   "source": [
    "from pylila.urirefs import lila\n",
    "\n",
    "hasbase = lila.hasBase\n",
    "for sbj in inv_g.subjects(hasbase, b.uri):\n",
    "    print(sbj)"
   ]
  },
  {
   "cell_type": "markdown",
   "id": "9479d488",
   "metadata": {},
   "source": [
    "### Get lemmas from string"
   ]
  },
  {
   "cell_type": "markdown",
   "id": "e07df8cb",
   "metadata": {},
   "source": [
    "Say that we want to see a `Suffix` in action, and our example above suggested the word [*magnificatio*](https://logeion.uchicago.edu/magnificatio) to us. From the same module `pylila.lemma` we can import a function to scan the Lemma Bank for lemmas that have the written representation that we're interested in.\n",
    "\n",
    "For many, many reasons (including actual ambiguity as with Lat. *tempus*, or because there are - alas! - still duplicate left in the Lemma Bank), there may be more than one lemma that satisfy our query, so the function always returns a list!"
   ]
  },
  {
   "cell_type": "code",
   "execution_count": 21,
   "id": "0c7c4a37",
   "metadata": {},
   "outputs": [
    {
     "data": {
      "text/plain": [
       "['http://lila-erc.eu/data/id/lemma/111305']"
      ]
     },
     "execution_count": 21,
     "metadata": {},
     "output_type": "execute_result"
    }
   ],
   "source": [
    "from pylila.lemma import get_lemmas_by_writtenrep\n",
    "\n",
    "magfi_list = get_lemmas_by_writtenrep('magnificatio')\n",
    "magfi_list"
   ]
  },
  {
   "cell_type": "markdown",
   "id": "ed2c91f1",
   "metadata": {},
   "source": [
    "Well, in this case we got pretty lucky! We found exactly what we were looking for. Let's build a Lemma instance out of our result:"
   ]
  },
  {
   "cell_type": "code",
   "execution_count": 17,
   "id": "63b854bb",
   "metadata": {},
   "outputs": [
    {
     "data": {
      "text/plain": [
       "'magnificatio'"
      ]
     },
     "execution_count": 17,
     "metadata": {},
     "output_type": "execute_result"
    }
   ],
   "source": [
    "magfi = Lemma(magfi_list[0])\n",
    "magfi.get_written_representations()"
   ]
  },
  {
   "cell_type": "markdown",
   "id": "8dd048d4",
   "metadata": {},
   "source": [
    "And now the suffix!"
   ]
  },
  {
   "cell_type": "code",
   "execution_count": 22,
   "id": "510b60d3",
   "metadata": {},
   "outputs": [
    {
     "data": {
      "text/plain": [
       "(rdflib.term.URIRef('http://lila-erc.eu/data/id/suffix/2'),)"
      ]
     },
     "execution_count": 22,
     "metadata": {},
     "output_type": "execute_result"
    }
   ],
   "source": [
    "magfi.suffixes"
   ]
  },
  {
   "cell_type": "code",
   "execution_count": 24,
   "id": "ce9cb1f0",
   "metadata": {},
   "outputs": [
    {
     "name": "stdout",
     "output_type": "stream",
     "text": [
      "http://lila-erc.eu/data/id/suffix/2\n"
     ]
    }
   ],
   "source": [
    "# in case we want to look it up on the web:\n",
    "print(magfi.suffixes[0])"
   ]
  },
  {
   "cell_type": "markdown",
   "id": "dd4e55c5",
   "metadata": {},
   "source": [
    "How do we know it's a suffix? Same as before: let's build a generic resource and check the `rdf:type`:"
   ]
  },
  {
   "cell_type": "code",
   "execution_count": 25,
   "id": "4da21dbe",
   "metadata": {},
   "outputs": [
    {
     "name": "stdout",
     "output_type": "stream",
     "text": [
      "(rdflib.term.URIRef('http://lila-erc.eu/ontologies/lila/Suffix'),)\n",
      "-(t)io(n)\n"
     ]
    }
   ],
   "source": [
    "s = LiLaRes(magfi.suffixes[0])\n",
    "\n",
    "print(s.types)\n",
    "print(s.labels[0])"
   ]
  },
  {
   "cell_type": "code",
   "execution_count": null,
   "id": "7d15dcbd",
   "metadata": {},
   "outputs": [],
   "source": []
  }
 ],
 "metadata": {
  "kernelspec": {
   "display_name": "Python [conda env:lila]",
   "language": "python",
   "name": "conda-env-lila-py"
  },
  "language_info": {
   "codemirror_mode": {
    "name": "ipython",
    "version": 3
   },
   "file_extension": ".py",
   "mimetype": "text/x-python",
   "name": "python",
   "nbconvert_exporter": "python",
   "pygments_lexer": "ipython3",
   "version": "3.9.7"
  },
  "toc": {
   "base_numbering": 1,
   "nav_menu": {},
   "number_sections": true,
   "sideBar": true,
   "skip_h1_title": true,
   "title_cell": "Table of Contents",
   "title_sidebar": "Contents",
   "toc_cell": true,
   "toc_position": {},
   "toc_section_display": true,
   "toc_window_display": false
  }
 },
 "nbformat": 4,
 "nbformat_minor": 5
}
