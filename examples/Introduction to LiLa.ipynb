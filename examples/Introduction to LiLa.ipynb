{
 "cells": [
  {
   "cell_type": "markdown",
   "id": "38d35d78",
   "metadata": {},
   "source": [
    "# A coincise introduction to LiLa"
   ]
  },
  {
   "cell_type": "markdown",
   "id": "e0d3c392",
   "metadata": {
    "toc": true
   },
   "source": [
    "<h1>Table of Contents<span class=\"tocSkip\"></span></h1>\n",
    "<div class=\"toc\"><ul class=\"toc-item\"><li><span><a href=\"#General-principles\" data-toc-modified-id=\"General-principles-1\"><span class=\"toc-item-num\">1&nbsp;&nbsp;</span>General principles</a></span></li><li><span><a href=\"#The-architecture-of-LiLa\" data-toc-modified-id=\"The-architecture-of-LiLa-2\"><span class=\"toc-item-num\">2&nbsp;&nbsp;</span>The architecture of LiLa</a></span><ul class=\"toc-item\"><li><span><a href=\"#Lemmas-(and-hypolemmas)\" data-toc-modified-id=\"Lemmas-(and-hypolemmas)-2.1\"><span class=\"toc-item-num\">2.1&nbsp;&nbsp;</span>Lemmas (and hypolemmas)</a></span></li><li><span><a href=\"#Lexical-resources\" data-toc-modified-id=\"Lexical-resources-2.2\"><span class=\"toc-item-num\">2.2&nbsp;&nbsp;</span>Lexical resources</a></span></li></ul></li><li><span><a href=\"#Some-bibliography\" data-toc-modified-id=\"Some-bibliography-3\"><span class=\"toc-item-num\">3&nbsp;&nbsp;</span>Some bibliography</a></span></li></ul></div>"
   ]
  },
  {
   "cell_type": "markdown",
   "id": "bed3ae19",
   "metadata": {
    "slideshow": {
     "slide_type": "slide"
    }
   },
   "source": [
    "The present file provides some theoretical background for the LiLa collection. If you're eager to see the python library in action, jump to the [Working with pylila]() notebook!"
   ]
  },
  {
   "cell_type": "markdown",
   "id": "34ec04c5",
   "metadata": {},
   "source": [
    "## General principles"
   ]
  },
  {
   "cell_type": "markdown",
   "id": "b85451ac",
   "metadata": {},
   "source": [
    "[LiLa](https://lila-erc.eu/) is a collection of linguistic resources for Latin published using Semantic Web standards and interconnected according to the [Linked-Open-Data](https://en.wikipedia.org/wiki/Linked_data) paradigm.\n",
    "\n",
    "LiLa brings corpora, lexicons and NLP tools together. The guiding priciple of LiLa's architecture is simple:\n",
    "* lexicons describe *words* (technically, entries, which can be multi-word expressions)\n",
    "* corpora and digital texts are made of tokens, which are *occurrences of words*\n",
    "* NLP tools process tokens; they're often connected in pipelines which often include Lemmatization (see below) as one of the first steps.\n",
    "\n",
    "The process that brings them together is the NLP task known as [Lemmatization](https://en.wikipedia.org/wiki/Lemmatisation). For a morphologically rich language like Latin, this task means reducing the forms of the inflectional paradigm of a word to a base form, conventionally chosen to be the citation form. E.g. the form *rosas* (accusative plural of a 1st-stem noun) is reconducted to the nominative singular *rosa*. This is also the form that you would use to look the word up in a dicitionary. That is to say: the *lemma* is also the form used by lexicons to index lexical entries.\n",
    "\n",
    "For these reasons, the lemma form is the perfect point for the 3 types of resources to meet, because:\n",
    "* entries in lexicons are indexed using lemmas;\n",
    "* corpus tokens can be lemmatized, i.e. tokens can be associated to lemmas;\n",
    "* Lemmatizers output lemmatized texts (i.e. texts where tokens are associated to their lemmas)"
   ]
  },
  {
   "cell_type": "markdown",
   "id": "3ea28ada",
   "metadata": {},
   "source": [
    "## The architecture of LiLa"
   ]
  },
  {
   "cell_type": "markdown",
   "id": "6e2da2e5",
   "metadata": {},
   "source": [
    "### Lemmas (and hypolemmas)"
   ]
  },
  {
   "cell_type": "markdown",
   "id": "2df27fa3",
   "metadata": {},
   "source": [
    "According to these principles, the core of LiLa is the [LiLa Lemma Bank](http://lila-erc.eu/data/id/lemma/LemmaBank), i.e. a collection of Latin wordforms that are potentially usable to lemmatize corpora and index lexical entries.\n",
    "\n",
    "Currently the Lemma Bank include about 200k forms distinguished in two classes:\n",
    "* Lemmas: the ordinary forms used to lemmatize.\n",
    "* Hypolemmas: a sub-class of the general Lemma class used for potentially ambigous cases.\n",
    "\n",
    "In order to get what Hypolemmas are, consider a couple of sample English examples. Would you lemmatize the form *quickly* under the adverb *quickly* or the adjective *quick*? The superlative *best* under *best* or under *good*? *Flying* (as in *flying machine*) as the adj. *flying* or the verb *fly*. Each of those solutions would make sense, and we don't know *a priori* which decision the builders of the corpora or the lexicons that we want to link have decided to adopt.\n",
    "\n",
    "That's why we introduced hypolemmas! Hypolemmas are form that can be interpreted as either forms of an inflectional paradigm *or* lemmas of their own. Hypolemmas are lemmas, but are also connected to their \"hyperlemma\" that they can be lemmatized under. As in the English examples, typical hypolemmas:\n",
    "* participles (hypolemmas of the main verb)\n",
    "* de-adjectival adverbs (like *quickly* from *quick*)\n",
    "* superlative/comparative adjectives"
   ]
  },
  {
   "cell_type": "markdown",
   "id": "a927d721",
   "metadata": {},
   "source": [
    "Following the LOD paradigm, lemmas (and obviously, hypolemmas) have a unique identifier (URI) that can be looked up on the web. This is an example: http://lila-erc.eu/data/id/lemma/86833.\n",
    "\n",
    "Lemmas also have other properties and relations, which will be illustrated while we show how to explore the lemma bank using `pylila`"
   ]
  },
  {
   "cell_type": "markdown",
   "id": "e5adcec2",
   "metadata": {},
   "source": [
    "### Lexical resources"
   ]
  },
  {
   "cell_type": "markdown",
   "id": "cf0ecde9",
   "metadata": {},
   "source": [
    "Most of the properties of Lemmas are defined using a W3C (de facto) standard ontology to describe lexical resources, [Ontolex](https://www.w3.org/2016/05/ontolex/)\n",
    "\n",
    "In fact, LiLa's lemmas are defined as sub-class of Ontolex' [Forms](https://www.w3.org/2016/05/ontolex/#forms). One of the most important properties of forms is that of becoming [canonical forms](https://www.w3.org/2016/05/ontolex/#canonicalForm) of [Lexical Entries](https://www.w3.org/2016/05/ontolex/#lexical-entries).\n",
    "\n",
    "This modelization strategy allows us to both publish lexical resources as LOD data (using Ontolex to model the lexicographic information) and connect them to our Lemma Bank. Potentially, all resources based on Ontolex can be linked to LiLa!\n",
    "\n",
    "Currently, LiLa is linked to 8 lexical resources (see below)"
   ]
  },
  {
   "cell_type": "markdown",
   "id": "bd6e1b68",
   "metadata": {},
   "source": [
    "## Some bibliography"
   ]
  },
  {
   "cell_type": "markdown",
   "id": "ec44c27a",
   "metadata": {},
   "source": [
    "* Most exhaustive paper: https://doi.org/10.4454/ssl.v58i1.277\n",
    "* On corpora: see [this paper](https://zenodo.org/record/6664693#.YrCBeexBxfU)\n",
    "* Complete list of the project publications: [here](https://lila-erc.eu/output/)"
   ]
  }
 ],
 "metadata": {
  "kernelspec": {
   "display_name": "Python 3 (ipykernel)",
   "language": "python",
   "name": "python3"
  },
  "language_info": {
   "codemirror_mode": {
    "name": "ipython",
    "version": 3
   },
   "file_extension": ".py",
   "mimetype": "text/x-python",
   "name": "python",
   "nbconvert_exporter": "python",
   "pygments_lexer": "ipython3",
   "version": "3.9.6"
  },
  "toc": {
   "base_numbering": 1,
   "nav_menu": {},
   "number_sections": true,
   "sideBar": true,
   "skip_h1_title": true,
   "title_cell": "Table of Contents",
   "title_sidebar": "Contents",
   "toc_cell": true,
   "toc_position": {},
   "toc_section_display": true,
   "toc_window_display": false
  }
 },
 "nbformat": 4,
 "nbformat_minor": 5
}
