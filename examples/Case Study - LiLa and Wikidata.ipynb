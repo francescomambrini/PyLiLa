{
 "cells": [
  {
   "cell_type": "markdown",
   "id": "49acae94",
   "metadata": {},
   "source": [
    "# Case study: LiLa and Wikidata"
   ]
  },
  {
   "cell_type": "markdown",
   "id": "774fce7e",
   "metadata": {
    "toc": true
   },
   "source": [
    "<h1>Table of Contents<span class=\"tocSkip\"></span></h1>\n",
    "<div class=\"toc\"><ul class=\"toc-item\"><li><span><a href=\"#Latin-Lexemes-in-Wikidata\" data-toc-modified-id=\"Latin-Lexemes-in-Wikidata-1\"><span class=\"toc-item-num\">1&nbsp;&nbsp;</span>Latin Lexemes in Wikidata</a></span></li><li><span><a href=\"#Lemmas-in-LiLa\" data-toc-modified-id=\"Lemmas-in-LiLa-2\"><span class=\"toc-item-num\">2&nbsp;&nbsp;</span>Lemmas in LiLa</a></span><ul class=\"toc-item\"><li><span><a href=\"#Matching\" data-toc-modified-id=\"Matching-2.1\"><span class=\"toc-item-num\">2.1&nbsp;&nbsp;</span>Matching</a></span></li><li><span><a href=\"#Writing-down-the-output\" data-toc-modified-id=\"Writing-down-the-output-2.2\"><span class=\"toc-item-num\">2.2&nbsp;&nbsp;</span>Writing down the output</a></span></li></ul></li></ul></div>"
   ]
  },
  {
   "cell_type": "markdown",
   "id": "d32ff70e",
   "metadata": {},
   "source": [
    "## Latin Lexemes in Wikidata"
   ]
  },
  {
   "cell_type": "markdown",
   "id": "04a36107",
   "metadata": {},
   "source": [
    "According to [ordia](https://ordia.toolforge.org/language/Q397), there are 32,183 Latin lexemes in Wikidata. The same total can also be verified using [Wikidata's SPARQL endpoint](https://query.wikidata.org/). In order to count the lexemes available for the Latin language [Q397](https://www.wikidata.org/wiki/Q397), we can run the following query in their interface (no need to worry about namespace prefixes)"
   ]
  },
  {
   "cell_type": "markdown",
   "id": "912b5ba0",
   "metadata": {},
   "source": [
    "```sparql\n",
    "select ?lexemeId ?lemma WHERE {\n",
    "  ?lexemeId dct:language wd:Q397;\n",
    "            wikibase:lemma ?lemma.\n",
    "}\n",
    "```\n"
   ]
  },
  {
   "cell_type": "markdown",
   "id": "8a9abddf",
   "metadata": {},
   "source": [
    "We'll download URIs and lemma strings (available via the property `wikibase:lemma`) using the query above and with the help of the [qwikidata](https://qwikidata.readthedocs.io/en/stable/index.html) library"
   ]
  },
  {
   "cell_type": "code",
   "execution_count": 9,
   "id": "390b51d8",
   "metadata": {},
   "outputs": [],
   "source": [
    "from qwikidata.sparql import  return_sparql_query_results\n",
    "from qwikidata.entity import WikidataItem, WikidataLexeme\n",
    "from qwikidata.linked_data_interface import get_entity_dict_from_api"
   ]
  },
  {
   "cell_type": "code",
   "execution_count": 2,
   "id": "73d0677c",
   "metadata": {},
   "outputs": [],
   "source": [
    "q = '''select ?lexemeId ?lemma ?pos WHERE {\n",
    "  ?lexemeId dct:language wd:Q397;\n",
    "            wikibase:lemma ?lemma ;\n",
    "            wikibase:lexicalCategory ?pos \n",
    "}'''"
   ]
  },
  {
   "cell_type": "code",
   "execution_count": 3,
   "id": "f584eb42",
   "metadata": {},
   "outputs": [],
   "source": [
    "res = return_sparql_query_results(q)"
   ]
  },
  {
   "cell_type": "markdown",
   "id": "d4e26a4c",
   "metadata": {},
   "source": [
    "We can easily verify that our `res` variable holds all the expected results"
   ]
  },
  {
   "cell_type": "code",
   "execution_count": 4,
   "id": "940db058",
   "metadata": {
    "scrolled": true
   },
   "outputs": [
    {
     "data": {
      "text/plain": [
       "32183"
      ]
     },
     "execution_count": 4,
     "metadata": {},
     "output_type": "execute_result"
    }
   ],
   "source": [
    "len(res['results']['bindings'])"
   ]
  },
  {
   "cell_type": "code",
   "execution_count": 5,
   "id": "51eaaa08",
   "metadata": {},
   "outputs": [
    {
     "data": {
      "text/plain": [
       "'adquisitrix'"
      ]
     },
     "execution_count": 5,
     "metadata": {},
     "output_type": "execute_result"
    }
   ],
   "source": [
    "r = res['results']['bindings'][0]\n",
    "r['lemma']['value']"
   ]
  },
  {
   "cell_type": "markdown",
   "id": "096a6cc8",
   "metadata": {},
   "source": [
    "Before we move on, let's pack everything into a list of URI,lemma lists"
   ]
  },
  {
   "cell_type": "code",
   "execution_count": 6,
   "id": "c5062aab",
   "metadata": {},
   "outputs": [
    {
     "data": {
      "text/plain": [
       "('http://www.wikidata.org/entity/L255916',\n",
       " 'adrepticius',\n",
       " 'http://www.wikidata.org/entity/Q34698')"
      ]
     },
     "execution_count": 6,
     "metadata": {},
     "output_type": "execute_result"
    }
   ],
   "source": [
    "wikidata_lexemes = [(r['lexemeId']['value'], r['lemma']['value'], r['pos']['value']) \n",
    "                    for r in res['results']['bindings']]\n",
    "wikidata_lexemes[1]"
   ]
  },
  {
   "cell_type": "code",
   "execution_count": 11,
   "id": "1f19b453",
   "metadata": {},
   "outputs": [
    {
     "name": "stdout",
     "output_type": "stream",
     "text": [
      "http://www.wikidata.org/entity/Q83034 interjection\n",
      "http://www.wikidata.org/entity/Q187931 phrase\n",
      "http://www.wikidata.org/entity/Q24905 verb\n",
      "http://www.wikidata.org/entity/Q62155 affix\n",
      "http://www.wikidata.org/entity/Q63116 numeral\n",
      "http://www.wikidata.org/entity/Q36224 pronoun\n",
      "http://www.wikidata.org/entity/Q380057 adverb\n",
      "http://www.wikidata.org/entity/Q4833830 preposition\n",
      "http://www.wikidata.org/entity/Q36484 conjunction\n",
      "http://www.wikidata.org/entity/Q184511 idiom\n",
      "http://www.wikidata.org/entity/Q814722 participle\n",
      "http://www.wikidata.org/entity/Q54310231 interrogative pronoun\n",
      "http://www.wikidata.org/entity/Q2006180 pro-form\n",
      "http://www.wikidata.org/entity/Q35102 proverb\n",
      "http://www.wikidata.org/entity/Q9788 letter\n",
      "http://www.wikidata.org/entity/Q168417 hapax legomenon\n",
      "http://www.wikidata.org/entity/Q5456361 fixed expression\n",
      "http://www.wikidata.org/entity/Q147276 proper noun\n",
      "http://www.wikidata.org/entity/Q104051989 adjectival suffix\n",
      "http://www.wikidata.org/entity/Q53996674 conjugation class\n",
      "http://www.wikidata.org/entity/Q576271 determiner\n",
      "http://www.wikidata.org/entity/Q134830 prefix\n",
      "http://www.wikidata.org/entity/Q1084 noun\n",
      "http://www.wikidata.org/entity/Q34698 adjective\n",
      "http://www.wikidata.org/entity/Q102047 suffix\n"
     ]
    }
   ],
   "source": [
    "for p in set([i[-1] for i in wikidata_lexemes]):\n",
    "    e = WikidataItem(get_entity_dict_from_api(p.split('/')[-1]))\n",
    "    print(p, e.get_label())"
   ]
  },
  {
   "cell_type": "markdown",
   "id": "d4d9b929",
   "metadata": {},
   "source": [
    "lila:subordinating_conjunction\n",
    "\t\n",
    "lila:coordinating_conjunction\n",
    "\t\t\n",
    "lila:particle\n",
    "\t\n",
    "lila:other"
   ]
  },
  {
   "cell_type": "code",
   "execution_count": 13,
   "id": "f1910897",
   "metadata": {},
   "outputs": [],
   "source": [
    "pos_mapping = {\n",
    "'http://www.wikidata.org/entity/Q83034': 'interjection' , # interjection\n",
    "'http://www.wikidata.org/entity/Q187931': 'None' , # phrase\n",
    "'http://www.wikidata.org/entity/Q24905': 'verb' , # verb\n",
    "'http://www.wikidata.org/entity/Q62155': 'None' , # affix\n",
    "'http://www.wikidata.org/entity/Q63116': 'numeral' , # numeral\n",
    "'http://www.wikidata.org/entity/Q36224': 'pronoun' , # pronoun\n",
    "'http://www.wikidata.org/entity/Q380057': 'adverb' , # adverb\n",
    "'http://www.wikidata.org/entity/Q4833830': 'adposition' , # preposition\n",
    "'http://www.wikidata.org/entity/Q36484': 'conjunction' , # conjunction\n",
    "'http://www.wikidata.org/entity/Q184511': 'None' , # idiom\n",
    "'http://www.wikidata.org/entity/Q814722': 'None' , # participle\n",
    "'http://www.wikidata.org/entity/Q54310231': 'pronoun' , # interrogative pronoun\n",
    "'http://www.wikidata.org/entity/Q2006180': 'None' , # pro-form\n",
    "'http://www.wikidata.org/entity/Q35102': 'None' , # proverb\n",
    "'http://www.wikidata.org/entity/Q9788': 'None' , # letter\n",
    "'http://www.wikidata.org/entity/Q168417': 'None' , # hapax legomenon\n",
    "'http://www.wikidata.org/entity/Q5456361': 'None' , # fixed expression\n",
    "'http://www.wikidata.org/entity/Q147276': 'proper_noun' , # proper noun\n",
    "'http://www.wikidata.org/entity/Q104051989': 'None' , # adjectival suffix\n",
    "'http://www.wikidata.org/entity/Q53996674': 'None' , # conjugation class\n",
    "'http://www.wikidata.org/entity/Q576271': 'determiner' , # determiner\n",
    "'http://www.wikidata.org/entity/Q134830': 'None', # prefix\n",
    "'http://www.wikidata.org/entity/Q1084': 'noun' , # noun\n",
    "'http://www.wikidata.org/entity/Q34698': 'adjective' , # adjective\n",
    "'http://www.wikidata.org/entity/Q102047': 'None' # suffix  \n",
    "}"
   ]
  },
  {
   "cell_type": "markdown",
   "id": "52364abf",
   "metadata": {},
   "source": [
    "## Lemmas in LiLa"
   ]
  },
  {
   "cell_type": "code",
   "execution_count": 14,
   "id": "e615fe40",
   "metadata": {},
   "outputs": [],
   "source": [
    "import sys\n",
    "import os\n",
    "\n",
    "sys.path.insert(0, os.path.abspath('../'))\n",
    "\n",
    "import pylila"
   ]
  },
  {
   "cell_type": "code",
   "execution_count": 15,
   "id": "5e52f2a5",
   "metadata": {},
   "outputs": [],
   "source": [
    "from pylila.lemma import get_lemmas_by_writtenrep\n",
    "from pylila.resources import LiLaLemmaBank"
   ]
  },
  {
   "cell_type": "code",
   "execution_count": 16,
   "id": "ed104267",
   "metadata": {
    "scrolled": true
   },
   "outputs": [],
   "source": [
    "from tqdm import tqdm"
   ]
  },
  {
   "cell_type": "markdown",
   "id": "bec12cf3",
   "metadata": {},
   "source": [
    "With the help of PyLiLa we can easilly interrogate the Lemma Bank. However, it would be incredibly long and time consuming to send 32k SPARQL queries online to check each and every lemma.\n",
    "\n",
    "Instead, I will load a local copy of the Lemma Bank into a `pylila.resources.LiLaLemmaBank` object and query the file locally (even that may take a while)."
   ]
  },
  {
   "cell_type": "code",
   "execution_count": 17,
   "id": "bef1bd71",
   "metadata": {},
   "outputs": [
    {
     "name": "stdout",
     "output_type": "stream",
     "text": [
      "CPU times: user 30.4 s, sys: 352 ms, total: 30.7 s\n",
      "Wall time: 30.8 s\n"
     ]
    }
   ],
   "source": [
    "%%time\n",
    "path_to_lb = os.path.expanduser('~/Downloads/lemmaBank.ttl')\n",
    "lb = LiLaLemmaBank.from_file(path_to_lb)"
   ]
  },
  {
   "cell_type": "markdown",
   "id": "a6a68c1c",
   "metadata": {},
   "source": [
    "It's more than 1.3M triples..."
   ]
  },
  {
   "cell_type": "code",
   "execution_count": 18,
   "id": "1c3f17db",
   "metadata": {},
   "outputs": [
    {
     "data": {
      "text/plain": [
       "1337466"
      ]
     },
     "execution_count": 18,
     "metadata": {},
     "output_type": "execute_result"
    }
   ],
   "source": [
    "len(lb.graph)"
   ]
  },
  {
   "cell_type": "markdown",
   "id": "a7b1e50c",
   "metadata": {},
   "source": [
    "Now we can use `rdflib` SPARQL support to query"
   ]
  },
  {
   "cell_type": "code",
   "execution_count": 19,
   "id": "8b0a1ce5",
   "metadata": {},
   "outputs": [],
   "source": [
    "q = '''SELECT DISTINCT ?lemma ?pos\n",
    "WHERE {\n",
    "    ?lemma ontolex:writtenRep \"amo\" ;\n",
    "           lila:hasPOS ?pos}'''\n"
   ]
  },
  {
   "cell_type": "code",
   "execution_count": 20,
   "id": "95130c8b",
   "metadata": {},
   "outputs": [
    {
     "name": "stdout",
     "output_type": "stream",
     "text": [
      "http://lila-erc.eu/data/id/lemma/88705 http://lila-erc.eu/ontologies/lila/verb\n",
      "http://lila-erc.eu/data/id/lemma/29874 http://lila-erc.eu/ontologies/lila/noun\n"
     ]
    }
   ],
   "source": [
    "qres = lb.graph.query(q)\n",
    "for row in qres:\n",
    "    print(row.lemma, row.pos)"
   ]
  },
  {
   "cell_type": "code",
   "execution_count": 21,
   "id": "2e30250a",
   "metadata": {},
   "outputs": [
    {
     "data": {
      "text/plain": [
       "['http://lila-erc.eu/data/id/lemma/88705',\n",
       " 'http://lila-erc.eu/data/id/lemma/29874']"
      ]
     },
     "execution_count": 21,
     "metadata": {},
     "output_type": "execute_result"
    }
   ],
   "source": [
    "lb.graph.query(q)\n",
    "[str(row.lemma) for row in qres]"
   ]
  },
  {
   "cell_type": "markdown",
   "id": "5395e0e8",
   "metadata": {},
   "source": [
    "### Matching"
   ]
  },
  {
   "cell_type": "code",
   "execution_count": 22,
   "id": "c51628b9",
   "metadata": {},
   "outputs": [],
   "source": [
    "def check_lemma_bank(wdlm):\n",
    "    chk_str = wdlm.lower().replace('v', 'u').replace('j', 'i')\n",
    "    \n",
    "    q = f'''SELECT DISTINCT ?lemma ?pos\n",
    "            WHERE {{\n",
    "            ?lemma ontolex:writtenRep \"{chk_str}\" ;\n",
    "            lila:hasPOS ?pos}}'''\n",
    "    qres = lb.graph.query(q)\n",
    "    return [(str(row.lemma), str(row.pos).split('/')[-1]) \n",
    "            for row in qres]"
   ]
  },
  {
   "cell_type": "code",
   "execution_count": 23,
   "id": "64181469",
   "metadata": {},
   "outputs": [
    {
     "data": {
      "text/plain": [
       "[('http://lila-erc.eu/data/id/lemma/88705', 'verb'),\n",
       " ('http://lila-erc.eu/data/id/lemma/29874', 'noun')]"
      ]
     },
     "execution_count": 23,
     "metadata": {},
     "output_type": "execute_result"
    }
   ],
   "source": [
    "check_lemma_bank('amo')"
   ]
  },
  {
   "cell_type": "code",
   "execution_count": 36,
   "id": "85b7d71c",
   "metadata": {},
   "outputs": [
    {
     "name": "stderr",
     "output_type": "stream",
     "text": [
      "100%|█████████████████████████████████████████████████████████████████████████████████████████████████████████████████| 32183/32183 [00:30<00:00, 1047.83it/s]\n"
     ]
    }
   ],
   "source": [
    "wd_matched = []\n",
    "for wd_uri, wd_lemma, wd_pos in tqdm(wikidata_lexemes):\n",
    "    lila_match = check_lemma_bank(wd_lemma)\n",
    "    wd_matched.append([wd_uri, wd_lemma, wd_pos, lila_match, len(lila_match)])"
   ]
  },
  {
   "cell_type": "code",
   "execution_count": 37,
   "id": "6d0d283c",
   "metadata": {},
   "outputs": [
    {
     "data": {
      "text/plain": [
       "['http://www.wikidata.org/entity/L256712',\n",
       " 'agglomero',\n",
       " 'http://www.wikidata.org/entity/Q24905',\n",
       " [('http://lila-erc.eu/data/id/lemma/88076', 'verb')],\n",
       " 1]"
      ]
     },
     "execution_count": 37,
     "metadata": {},
     "output_type": "execute_result"
    }
   ],
   "source": [
    "wd_matched[100]"
   ]
  },
  {
   "cell_type": "code",
   "execution_count": 38,
   "id": "303e557a",
   "metadata": {},
   "outputs": [],
   "source": [
    "from collections import Counter"
   ]
  },
  {
   "cell_type": "code",
   "execution_count": 39,
   "id": "e07b547a",
   "metadata": {},
   "outputs": [],
   "source": [
    "c = Counter([i[-1] for i in wd_matched])"
   ]
  },
  {
   "cell_type": "markdown",
   "id": "0c7f7e24",
   "metadata": {},
   "source": [
    "Old results (without any string massaging):\n",
    "```\n",
    "[(1, 20255), (0, 7209), (2, 3880), (3, 676), (4, 135), (5, 25), (6, 3)]\n",
    "```"
   ]
  },
  {
   "cell_type": "code",
   "execution_count": 40,
   "id": "e82c31c5",
   "metadata": {},
   "outputs": [
    {
     "data": {
      "text/plain": [
       "[(1, 22860), (2, 4452), (0, 3900), (3, 780), (4, 157), (5, 31), (6, 3)]"
      ]
     },
     "execution_count": 40,
     "metadata": {},
     "output_type": "execute_result"
    }
   ],
   "source": [
    "c.most_common(10)"
   ]
  },
  {
   "cell_type": "code",
   "execution_count": 41,
   "id": "13bbf19b",
   "metadata": {},
   "outputs": [
    {
     "data": {
      "text/plain": [
       "5423"
      ]
     },
     "execution_count": 41,
     "metadata": {},
     "output_type": "execute_result"
    }
   ],
   "source": [
    "len([m for m in wd_matched if m[-1] > 1])"
   ]
  },
  {
   "cell_type": "markdown",
   "id": "c23f95ef",
   "metadata": {},
   "source": [
    "Now let's try to disambiguate the ambiguous cases using the POS mapping we did above:"
   ]
  },
  {
   "cell_type": "code",
   "execution_count": 42,
   "id": "e3623f00",
   "metadata": {},
   "outputs": [],
   "source": [
    "for m in wd_matched:\n",
    "    if m[-1] > 1:\n",
    "        matched_pos = pos_mapping[m[2]]\n",
    "        for li in m[3]:\n",
    "            if li[1] == matched_pos:\n",
    "                m[3] = [li]\n",
    "                m[4] = len(m[3])\n",
    "                break"
   ]
  },
  {
   "cell_type": "code",
   "execution_count": 43,
   "id": "c2249800",
   "metadata": {},
   "outputs": [],
   "source": [
    "newc = Counter([i[-1] for i in wd_matched])"
   ]
  },
  {
   "cell_type": "code",
   "execution_count": 44,
   "id": "518af249",
   "metadata": {},
   "outputs": [
    {
     "data": {
      "text/plain": [
       "[(1, 28046), (0, 3900), (2, 183), (3, 43), (4, 8), (6, 2), (5, 1)]"
      ]
     },
     "execution_count": 44,
     "metadata": {},
     "output_type": "execute_result"
    }
   ],
   "source": [
    "newc.most_common(10)"
   ]
  },
  {
   "cell_type": "code",
   "execution_count": 48,
   "id": "459598f0",
   "metadata": {
    "scrolled": true
   },
   "outputs": [
    {
     "data": {
      "text/plain": [
       "['http://www.wikidata.org/entity/L256677',\n",
       " 'Africus',\n",
       " 'http://www.wikidata.org/entity/Q1084',\n",
       " [('http://lila-erc.eu/data/id/lemma/7334', 'adjective'),\n",
       "  ('http://lila-erc.eu/data/id/lemma/7338', 'proper_noun')],\n",
       " 2]"
      ]
     },
     "execution_count": 48,
     "metadata": {},
     "output_type": "execute_result"
    }
   ],
   "source": [
    "[w for w in wd_matched if w[-1] > 1][0]"
   ]
  },
  {
   "cell_type": "markdown",
   "id": "aa30a3ab",
   "metadata": {},
   "source": [
    "### Writing down the output"
   ]
  },
  {
   "cell_type": "markdown",
   "id": "c7e884d8",
   "metadata": {
    "slideshow": {
     "slide_type": "slide"
    }
   },
   "source": [
    "I'll aim for a JSON file structured like that:"
   ]
  },
  {
   "cell_type": "markdown",
   "id": "fe0035fc",
   "metadata": {},
   "source": [
    "```json\n",
    "[ \n",
    "    { \n",
    "      \"id\" :  \"L255905\",\n",
    "      \" uri\" : \" http://www.wikidata.org/entity/L255905\" ,\n",
    "      \" wiki_lemma\" : \" adquisitrix\" ,\n",
    "      \" wiki_pos\"  : \" http://www.wikidata.org/entity/Q1084\" ,\n",
    "      \" lila_links\"  : [\n",
    "            { \" lila_uri\"  : \" http://lila-erc.eu/data/id/lemma/87268\" ,\n",
    "              \" lila_pos\"  : \"noun\"  \n",
    "            }\n",
    "              ],\n",
    "      \"nr_of_links\"  : 1\n",
    "    },\n",
    "{\n",
    "    \"id\" : \"L256677\",\n",
    "    \"uri\" : \"http://www.wikidata.org/entity/L256677\",\n",
    "    \"wiki_lemma\": \"Africus\",\n",
    "    \"wiki_pos\": \"http://www.wikidata.org/entity/Q1084\",\n",
    "    \"lila_links\": [\n",
    "        {\n",
    "            \"lila_uri\" : \"http://lila-erc.eu/data/id/lemma/7334\",\n",
    "            \"lila_pos\" :  \"adjective\"\n",
    "        },\n",
    "        {\n",
    "            \"lila_uri\" : \"http://lila-erc.eu/data/id/lemma/7338\",\n",
    "            \"lila_pos\" :  \"proper_noun\"\n",
    "        }\n",
    "    ],\n",
    "    \"nr_of_links\" : 2\n",
    "}\n",
    "]\n",
    "```"
   ]
  },
  {
   "cell_type": "code",
   "execution_count": 49,
   "id": "3ebc349d",
   "metadata": {},
   "outputs": [],
   "source": [
    "import json"
   ]
  },
  {
   "cell_type": "code",
   "execution_count": 52,
   "id": "ab9d6ed1",
   "metadata": {},
   "outputs": [
    {
     "data": {
      "text/plain": [
       "['http://www.wikidata.org/entity/L255905',\n",
       " 'adquisitrix',\n",
       " 'http://www.wikidata.org/entity/Q1084',\n",
       " [('http://lila-erc.eu/data/id/lemma/87268', 'noun')],\n",
       " 1]"
      ]
     },
     "execution_count": 52,
     "metadata": {},
     "output_type": "execute_result"
    }
   ],
   "source": [
    "wd_matched[0]"
   ]
  },
  {
   "cell_type": "code",
   "execution_count": 54,
   "id": "ef75fdf0",
   "metadata": {},
   "outputs": [],
   "source": [
    "jmatchs = []\n",
    "for w in wd_matched:\n",
    "    j = {}\n",
    "    j['id'] = w[0].split(\"/\")[-1]\n",
    "    j['uri'] = w[0]\n",
    "    j['wiki_lemma'] = w[1]\n",
    "    j['wiki_pos'] = w[2]\n",
    "    j['lila_links'] = [{'lila_uri' : ll[0], 'lila_pos' : ll[1]} for ll in w[3]]\n",
    "    j['nr_of_links'] = w[-1]\n",
    "    jmatchs.append(j)\n",
    "    "
   ]
  },
  {
   "cell_type": "code",
   "execution_count": 57,
   "id": "f7f72c70",
   "metadata": {},
   "outputs": [],
   "source": [
    "with open(os.path.expanduser('~/Desktop/lila_wikidata.json'), 'w') as out:\n",
    "    json.dump(jmatchs, out, ensure_ascii=False, indent=2)"
   ]
  },
  {
   "cell_type": "markdown",
   "id": "0961dd8c",
   "metadata": {},
   "source": [
    "---"
   ]
  }
 ],
 "metadata": {
  "kernelspec": {
   "display_name": "Python [conda env:lila]",
   "language": "python",
   "name": "conda-env-lila-py"
  },
  "language_info": {
   "codemirror_mode": {
    "name": "ipython",
    "version": 3
   },
   "file_extension": ".py",
   "mimetype": "text/x-python",
   "name": "python",
   "nbconvert_exporter": "python",
   "pygments_lexer": "ipython3",
   "version": "3.9.7"
  },
  "toc": {
   "base_numbering": 1,
   "nav_menu": {},
   "number_sections": true,
   "sideBar": true,
   "skip_h1_title": true,
   "title_cell": "Table of Contents",
   "title_sidebar": "Contents",
   "toc_cell": true,
   "toc_position": {},
   "toc_section_display": true,
   "toc_window_display": false
  }
 },
 "nbformat": 4,
 "nbformat_minor": 5
}
